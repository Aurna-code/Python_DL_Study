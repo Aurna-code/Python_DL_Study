{
 "cells": [
  {
   "cell_type": "markdown",
   "id": "e5a1ef8a-16b0-429d-b53b-8d030bfe17e2",
   "metadata": {},
   "source": [
    "## ImageDataGenerator를 활용한 Tensorflow 제공 Malaria set 분류\n",
    "* 오염된 세포와 정상세포를 분류하는 이미지 데이터 분석\n",
    "* train set의 이미지 샘플이 너무 적을 때 유사한 이미지를 대량 생성해 학습을 더 하기"
   ]
  },
  {
   "cell_type": "code",
   "execution_count": 1,
   "id": "da2896f3-2165-4e99-a0dc-24cc1d200d28",
   "metadata": {},
   "outputs": [],
   "source": [
    "import os\n",
    "import tensorflow as tf"
   ]
  },
  {
   "cell_type": "code",
   "execution_count": 2,
   "id": "0908adbb-4c2a-44d6-8bd5-e6cff26e23e4",
   "metadata": {},
   "outputs": [],
   "source": [
    "from keras.preprocessing.image import ImageDataGenerator  # keras의 ImageDataGenerator "
   ]
  },
  {
   "cell_type": "code",
   "execution_count": 3,
   "id": "5c4eafeb-5421-40a4-ab29-130d723fca2c",
   "metadata": {},
   "outputs": [],
   "source": [
    "data_dir = 'D:\\\\cell_images'"
   ]
  },
  {
   "cell_type": "code",
   "execution_count": 4,
   "id": "429b1259-f8b5-40a7-a1c5-9df1f0e2a79f",
   "metadata": {},
   "outputs": [
    {
     "data": {
      "text/plain": [
       "['test', 'train']"
      ]
     },
     "execution_count": 4,
     "metadata": {},
     "output_type": "execute_result"
    }
   ],
   "source": [
    "os.listdir(data_dir)"
   ]
  },
  {
   "cell_type": "code",
   "execution_count": 5,
   "id": "80c55f49-7bf8-4961-89be-de1b66d95fb6",
   "metadata": {},
   "outputs": [],
   "source": [
    "import pandas as pd\n",
    "import numpy as np\n",
    "import seaborn as sns\n",
    "import matplotlib.pyplot as plt"
   ]
  },
  {
   "cell_type": "code",
   "execution_count": 6,
   "id": "a8bf1bd0-61f4-4327-9a92-016b90ce535c",
   "metadata": {},
   "outputs": [],
   "source": [
    "from matplotlib.image import imread"
   ]
  },
  {
   "cell_type": "markdown",
   "id": "6481dc1f-45c9-4ae8-83f5-a71d450b08fb",
   "metadata": {},
   "source": [
    "### 데이터 경로 지정"
   ]
  },
  {
   "cell_type": "code",
   "execution_count": 14,
   "id": "f653fff3-2163-46c1-bca8-0d810309ede9",
   "metadata": {},
   "outputs": [],
   "source": [
    "test_path = data_dir + '\\\\test\\\\'\n",
    "train_path = data_dir + '\\\\train\\\\'"
   ]
  },
  {
   "cell_type": "code",
   "execution_count": 15,
   "id": "acbcc6b9-36cc-4ebb-8034-b729c1b84f63",
   "metadata": {},
   "outputs": [
    {
     "data": {
      "text/plain": [
       "'D:\\\\cell_images\\\\test\\\\'"
      ]
     },
     "execution_count": 15,
     "metadata": {},
     "output_type": "execute_result"
    }
   ],
   "source": [
    "test_path"
   ]
  },
  {
   "cell_type": "code",
   "execution_count": 16,
   "id": "b82206c6-4b3a-4cef-befe-413dcbcb2254",
   "metadata": {},
   "outputs": [
    {
     "data": {
      "text/plain": [
       "['parasitized', 'uninfected']"
      ]
     },
     "execution_count": 16,
     "metadata": {},
     "output_type": "execute_result"
    }
   ],
   "source": [
    "os.listdir(test_path)"
   ]
  },
  {
   "cell_type": "code",
   "execution_count": 17,
   "id": "19012648-0c45-4d60-89de-e80c6c10014f",
   "metadata": {},
   "outputs": [
    {
     "data": {
      "text/plain": [
       "['parasitized', 'uninfected']"
      ]
     },
     "execution_count": 17,
     "metadata": {},
     "output_type": "execute_result"
    }
   ],
   "source": [
    "os.listdir(train_path)"
   ]
  },
  {
   "cell_type": "code",
   "execution_count": 18,
   "id": "e1b7f129-b1f8-46dd-bfb9-f237dee1a9fc",
   "metadata": {},
   "outputs": [
    {
     "data": {
      "text/plain": [
       "'C100P61ThinF_IMG_20150918_144104_cell_162.png'"
      ]
     },
     "execution_count": 18,
     "metadata": {},
     "output_type": "execute_result"
    }
   ],
   "source": [
    "os.listdir(train_path + 'parasitized')[0]"
   ]
  },
  {
   "cell_type": "code",
   "execution_count": 20,
   "id": "9241a3fb-0cf9-4ed2-ad1a-c8050a5bfda1",
   "metadata": {},
   "outputs": [],
   "source": [
    "par_cell = train_path+'parasitized\\\\'+'C100P61ThinF_IMG_20150918_144104_cell_162.png'"
   ]
  },
  {
   "cell_type": "code",
   "execution_count": 21,
   "id": "6188dfc7-7f0d-49d6-91ad-247194dad697",
   "metadata": {},
   "outputs": [
    {
     "data": {
      "text/plain": [
       "'D:\\\\cell_images\\\\train\\\\parasitized\\\\C100P61ThinF_IMG_20150918_144104_cell_162.png'"
      ]
     },
     "execution_count": 21,
     "metadata": {},
     "output_type": "execute_result"
    }
   ],
   "source": [
    "par_cell"
   ]
  },
  {
   "cell_type": "code",
   "execution_count": 22,
   "id": "b2f17a06-c196-4728-8d6e-6953467d8acd",
   "metadata": {},
   "outputs": [
    {
     "data": {
      "text/plain": [
       "array([[[0., 0., 0.],\n",
       "        [0., 0., 0.],\n",
       "        [0., 0., 0.],\n",
       "        ...,\n",
       "        [0., 0., 0.],\n",
       "        [0., 0., 0.],\n",
       "        [0., 0., 0.]],\n",
       "\n",
       "       [[0., 0., 0.],\n",
       "        [0., 0., 0.],\n",
       "        [0., 0., 0.],\n",
       "        ...,\n",
       "        [0., 0., 0.],\n",
       "        [0., 0., 0.],\n",
       "        [0., 0., 0.]],\n",
       "\n",
       "       [[0., 0., 0.],\n",
       "        [0., 0., 0.],\n",
       "        [0., 0., 0.],\n",
       "        ...,\n",
       "        [0., 0., 0.],\n",
       "        [0., 0., 0.],\n",
       "        [0., 0., 0.]],\n",
       "\n",
       "       ...,\n",
       "\n",
       "       [[0., 0., 0.],\n",
       "        [0., 0., 0.],\n",
       "        [0., 0., 0.],\n",
       "        ...,\n",
       "        [0., 0., 0.],\n",
       "        [0., 0., 0.],\n",
       "        [0., 0., 0.]],\n",
       "\n",
       "       [[0., 0., 0.],\n",
       "        [0., 0., 0.],\n",
       "        [0., 0., 0.],\n",
       "        ...,\n",
       "        [0., 0., 0.],\n",
       "        [0., 0., 0.],\n",
       "        [0., 0., 0.]],\n",
       "\n",
       "       [[0., 0., 0.],\n",
       "        [0., 0., 0.],\n",
       "        [0., 0., 0.],\n",
       "        ...,\n",
       "        [0., 0., 0.],\n",
       "        [0., 0., 0.],\n",
       "        [0., 0., 0.]]], dtype=float32)"
      ]
     },
     "execution_count": 22,
     "metadata": {},
     "output_type": "execute_result"
    }
   ],
   "source": [
    "imread(par_cell)"
   ]
  },
  {
   "cell_type": "code",
   "execution_count": 23,
   "id": "3d6d825d-b2c2-4018-998c-88579d9ef743",
   "metadata": {},
   "outputs": [
    {
     "data": {
      "text/plain": [
       "<matplotlib.image.AxesImage at 0x1e5897128b0>"
      ]
     },
     "execution_count": 23,
     "metadata": {},
     "output_type": "execute_result"
    },
    {
     "data": {
      "image/png": "[encoded data removed]",
      "text/plain": [
       "<Figure size 432x288 with 1 Axes>"
      ]
     },
     "metadata": {
      "needs_background": "light"
     },
     "output_type": "display_data"
    }
   ],
   "source": [
    "plt.imshow(imread(par_cell))"
   ]
  },
  {
   "cell_type": "code",
   "execution_count": 24,
   "id": "a206b07d-312c-4929-a4a6-93c4d7302ea5",
   "metadata": {},
   "outputs": [
    {
     "data": {
      "text/plain": [
       "'C100P61ThinF_IMG_20150918_144104_cell_128.png'"
      ]
     },
     "execution_count": 24,
     "metadata": {},
     "output_type": "execute_result"
    }
   ],
   "source": [
    "os.listdir(train_path + 'uninfected')[0]"
   ]
  },
  {
   "cell_type": "code",
   "execution_count": 25,
   "id": "1f2c0cf1-df34-46f0-bb63-74a346c377e4",
   "metadata": {},
   "outputs": [],
   "source": [
    "uni_cell = train_path+'uninfected\\\\'+'C100P61ThinF_IMG_20150918_144104_cell_128.png'"
   ]
  },
  {
   "cell_type": "code",
   "execution_count": 26,
   "id": "5f6a9d56-8f61-4b14-849f-2ebfe5b8a29c",
   "metadata": {},
   "outputs": [
    {
     "data": {
      "text/plain": [
       "array([[[0., 0., 0.],\n",
       "        [0., 0., 0.],\n",
       "        [0., 0., 0.],\n",
       "        ...,\n",
       "        [0., 0., 0.],\n",
       "        [0., 0., 0.],\n",
       "        [0., 0., 0.]],\n",
       "\n",
       "       [[0., 0., 0.],\n",
       "        [0., 0., 0.],\n",
       "        [0., 0., 0.],\n",
       "        ...,\n",
       "        [0., 0., 0.],\n",
       "        [0., 0., 0.],\n",
       "        [0., 0., 0.]],\n",
       "\n",
       "       [[0., 0., 0.],\n",
       "        [0., 0., 0.],\n",
       "        [0., 0., 0.],\n",
       "        ...,\n",
       "        [0., 0., 0.],\n",
       "        [0., 0., 0.],\n",
       "        [0., 0., 0.]],\n",
       "\n",
       "       ...,\n",
       "\n",
       "       [[0., 0., 0.],\n",
       "        [0., 0., 0.],\n",
       "        [0., 0., 0.],\n",
       "        ...,\n",
       "        [0., 0., 0.],\n",
       "        [0., 0., 0.],\n",
       "        [0., 0., 0.]],\n",
       "\n",
       "       [[0., 0., 0.],\n",
       "        [0., 0., 0.],\n",
       "        [0., 0., 0.],\n",
       "        ...,\n",
       "        [0., 0., 0.],\n",
       "        [0., 0., 0.],\n",
       "        [0., 0., 0.]],\n",
       "\n",
       "       [[0., 0., 0.],\n",
       "        [0., 0., 0.],\n",
       "        [0., 0., 0.],\n",
       "        ...,\n",
       "        [0., 0., 0.],\n",
       "        [0., 0., 0.],\n",
       "        [0., 0., 0.]]], dtype=float32)"
      ]
     },
     "execution_count": 26,
     "metadata": {},
     "output_type": "execute_result"
    }
   ],
   "source": [
    "imread(uni_cell)"
   ]
  },
  {
   "cell_type": "code",
   "execution_count": 27,
   "id": "4b02bc3c-311c-4f42-8b9d-633f0c78074f",
   "metadata": {},
   "outputs": [
    {
     "data": {
      "text/plain": [
       "<matplotlib.image.AxesImage at 0x1e58ade7b20>"
      ]
     },
     "execution_count": 27,
     "metadata": {},
     "output_type": "execute_result"
    },
    {
     "data": {
      "image/png": "[encoded data removed]",
      "text/plain": [
       "<Figure size 432x288 with 1 Axes>"
      ]
     },
     "metadata": {
      "needs_background": "light"
     },
     "output_type": "display_data"
    }
   ],
   "source": [
    "plt.imshow(imread(uni_cell))"
   ]
  },
  {
   "cell_type": "code",
   "execution_count": null,
   "id": "c6b9ad57-cf9e-4009-8dec-8c2ed245f95e",
   "metadata": {},
   "outputs": [],
   "source": [
    "help(ImageDataGenerator)"
   ]
  },
  {
   "cell_type": "code",
   "execution_count": 28,
   "id": "0627d8c6-7a28-4f63-9ce5-c1ade8a75e63",
   "metadata": {},
   "outputs": [],
   "source": [
    "image_gen = ImageDataGenerator(rotation_range = 20, \n",
    "                               width_shift_range =0.1,\n",
    "                               height_shift_range = 0.1,\n",
    "                               shear_range = 0.1,\n",
    "                               zoom_range = 0.1,\n",
    "                               horizontal_flip = True,\n",
    "                               fill_mode = 'nearest')                               "
   ]
  },
  {
   "cell_type": "markdown",
   "id": "d83d9836-4e5b-4887-95e1-5eeb59dc72d8",
   "metadata": {},
   "source": [
    "정규화 확인(or rescale=/255)"
   ]
  },
  {
   "cell_type": "code",
   "execution_count": 29,
   "id": "d60ff8b4-89e9-4b5e-8a87-34fc270a3a7f",
   "metadata": {
    "tags": []
   },
   "outputs": [
    {
     "data": {
      "text/plain": [
       "0.9098039"
      ]
     },
     "execution_count": 29,
     "metadata": {},
     "output_type": "execute_result"
    }
   ],
   "source": [
    "imread(par_cell).max()"
   ]
  },
  {
   "cell_type": "code",
   "execution_count": 30,
   "id": "bd3d48ff-0ab3-43e5-bafa-5cbfd23ffebb",
   "metadata": {},
   "outputs": [
    {
     "data": {
      "text/plain": [
       "0.0"
      ]
     },
     "execution_count": 30,
     "metadata": {},
     "output_type": "execute_result"
    }
   ],
   "source": [
    "imread(par_cell).min()"
   ]
  },
  {
   "cell_type": "code",
   "execution_count": 31,
   "id": "70c69f18-a49c-46f8-b686-04d55dc523ab",
   "metadata": {},
   "outputs": [],
   "source": [
    "par_img = imread(par_cell)"
   ]
  },
  {
   "cell_type": "code",
   "execution_count": 33,
   "id": "439baeeb-1cc9-4dd5-ba01-a3d51fda0faa",
   "metadata": {},
   "outputs": [
    {
     "data": {
      "text/plain": [
       "<matplotlib.image.AxesImage at 0x1e58b070f40>"
      ]
     },
     "execution_count": 33,
     "metadata": {},
     "output_type": "execute_result"
    },
    {
     "data": {
      "image/png": "[encoded data removed]",
      "text/plain": [
       "<Figure size 432x288 with 1 Axes>"
      ]
     },
     "metadata": {
      "needs_background": "light"
     },
     "output_type": "display_data"
    }
   ],
   "source": [
    "plt.imshow(image_gen.random_transform(par_img))"
   ]
  },
  {
   "cell_type": "code",
   "execution_count": 34,
   "id": "684d9a5c-578a-4fe5-a72b-1854644458b0",
   "metadata": {},
   "outputs": [
    {
     "data": {
      "text/plain": [
       "'D:\\\\cell_images\\\\train\\\\'"
      ]
     },
     "execution_count": 34,
     "metadata": {},
     "output_type": "execute_result"
    }
   ],
   "source": [
    "train_path"
   ]
  },
  {
   "cell_type": "code",
   "execution_count": 35,
   "id": "e3cd0482-5476-4901-bb1a-43901766ab80",
   "metadata": {},
   "outputs": [
    {
     "name": "stdout",
     "output_type": "stream",
     "text": [
      "Found 24958 images belonging to 2 classes.\n"
     ]
    },
    {
     "data": {
      "text/plain": [
       "<keras.preprocessing.image.DirectoryIterator at 0x1e58aec9ac0>"
      ]
     },
     "execution_count": 35,
     "metadata": {},
     "output_type": "execute_result"
    }
   ],
   "source": [
    "image_gen.flow_from_directory(train_path)"
   ]
  },
  {
   "cell_type": "code",
   "execution_count": 36,
   "id": "2a82d76a-4552-4fa0-b78d-05862a479781",
   "metadata": {},
   "outputs": [
    {
     "data": {
      "text/plain": [
       "['parasitized', 'uninfected']"
      ]
     },
     "execution_count": 36,
     "metadata": {},
     "output_type": "execute_result"
    }
   ],
   "source": [
    "os.listdir(train_path)"
   ]
  },
  {
   "cell_type": "markdown",
   "id": "eb8a3969-bf5d-4649-b281-b61c1fb11311",
   "metadata": {},
   "source": [
    "### CNN input을 위한 이미지 리사이징 정보 얻기\n",
    "    * 평균보다 작은 이미지가 많으면 추가적인 패딩을 할 수도 있고, 큰 이미지가 많으면 자르거나 압축\n"
   ]
  },
  {
   "cell_type": "code",
   "execution_count": 37,
   "id": "2984e1bb-becd-4cf1-86dd-4ca137b287a2",
   "metadata": {},
   "outputs": [],
   "source": [
    "dim1 = []\n",
    "dim2 = []\n",
    "\n",
    "for image_filename in os.listdir(test_path + \"uninfected\"):\n",
    "    img = imread(test_path + \"uninfected\\\\\" + image_filename)\n",
    "    d1, d2, colors = img.shape\n",
    "    dim1.append(d1)\n",
    "    dim2.append(d2)"
   ]
  },
  {
   "cell_type": "code",
   "execution_count": 40,
   "id": "68f45e71-9275-4fd4-aa6b-743a5e45eb31",
   "metadata": {},
   "outputs": [
    {
     "name": "stderr",
     "output_type": "stream",
     "text": [
      "C:\\ProgramData\\Anaconda3\\lib\\site-packages\\seaborn\\_decorators.py:36: FutureWarning: Pass the following variables as keyword args: x, y. From version 0.12, the only valid positional argument will be `data`, and passing other arguments without an explicit keyword will result in an error or misinterpretation.\n",
      "  warnings.warn(\n"
     ]
    },
    {
     "data": {
      "text/plain": [
       "<seaborn.axisgrid.JointGrid at 0x1e58b0949a0>"
      ]
     },
     "execution_count": 40,
     "metadata": {},
     "output_type": "execute_result"
    },
    {
     "data": {
      "image/png": "[encoded data removed]",
      "text/plain": [
       "<Figure size 432x432 with 3 Axes>"
      ]
     },
     "metadata": {
      "needs_background": "light"
     },
     "output_type": "display_data"
    }
   ],
   "source": [
    "sns.jointplot(dim1, dim2)"
   ]
  },
  {
   "cell_type": "code",
   "execution_count": 30,
   "id": "0a718025-d639-47da-b10e-afea6ef9c683",
   "metadata": {},
   "outputs": [
    {
     "data": {
      "text/plain": [
       "130.92538461538462"
      ]
     },
     "execution_count": 30,
     "metadata": {},
     "output_type": "execute_result"
    }
   ],
   "source": [
    "np.mean(dim1)"
   ]
  },
  {
   "cell_type": "code",
   "execution_count": 31,
   "id": "14d312b1-771d-4163-88cf-551585c2fa0b",
   "metadata": {},
   "outputs": [
    {
     "data": {
      "text/plain": [
       "130.75"
      ]
     },
     "execution_count": 31,
     "metadata": {},
     "output_type": "execute_result"
    }
   ],
   "source": [
    "np.mean(dim2)"
   ]
  },
  {
   "cell_type": "code",
   "execution_count": 13,
   "id": "fc46f663-b677-4615-9dbb-61ef21a0d3c0",
   "metadata": {},
   "outputs": [],
   "source": [
    "image_shape = (130,130,3)  # 평균값 참조"
   ]
  },
  {
   "cell_type": "markdown",
   "id": "7ef36786-2a73-4ee2-8431-8098bb7c9564",
   "metadata": {},
   "source": [
    "### 신경망 만들기 - 합성곱층과 MaxPooling의 반복"
   ]
  },
  {
   "cell_type": "code",
   "execution_count": 41,
   "id": "096e7bc2-975f-4045-b4d5-882fd43ee4f1",
   "metadata": {},
   "outputs": [],
   "source": [
    "from tensorflow import keras\n",
    "from keras import layers"
   ]
  },
  {
   "cell_type": "code",
   "execution_count": 42,
   "id": "38979654-150a-47a7-ba1b-deab6098c36e",
   "metadata": {},
   "outputs": [],
   "source": [
    "from tensorflow.keras.layers import Dense,Conv2D,MaxPool2D, Flatten"
   ]
  },
  {
   "cell_type": "code",
   "execution_count": 50,
   "id": "9120840f-34b6-421a-bed1-161db2bb4ce7",
   "metadata": {},
   "outputs": [],
   "source": [
    "intro = keras.Input(shape=(image_shape))\n",
    "c1 = layers.Conv2D(filters=32, kernel_size = (3,3), activation = 'relu')(intro)\n",
    "m1 = layers.MaxPooling2D(pool_size=(2,2))(c1)\n",
    "c2 = layers.Conv2D(filters=64, kernel_size = (3,3), activation = 'relu')(m1)\n",
    "m2 = layers.MaxPooling2D(pool_size=(2,2))(c2)\n",
    "c3 = layers.Conv2D(filters=64, kernel_size = (3,3), activation = 'relu')(m2)\n",
    "m3 = layers.MaxPooling2D(pool_size=(2,2))(c3)\n",
    "f1 = layers.Flatten()(m3)\n",
    "d1 = layers.Dense(128, activation = 'relu')(f1)\n",
    "dr1 = layers.Dropout(0.5)(d1)\n",
    "outro = layers.Dense(1, activation = 'sigmoid')(dr1)\n"
   ]
  },
  {
   "cell_type": "code",
   "execution_count": 51,
   "id": "b7a47c68-745e-4315-bbc8-c6285695da43",
   "metadata": {},
   "outputs": [],
   "source": [
    "model = keras.Model(inputs = intro, \n",
    "                    outputs = outro)\n",
    "\n",
    "model.compile(loss= 'binary_crossentropy', \n",
    "                    optimizer = 'adam', \n",
    "                    metrics = ['accuracy'])"
   ]
  },
  {
   "cell_type": "code",
   "execution_count": 52,
   "id": "e3ba6775-4134-4d03-95ab-b61e70e04817",
   "metadata": {},
   "outputs": [
    {
     "name": "stdout",
     "output_type": "stream",
     "text": [
      "Model: \"model_1\"\n",
      "_________________________________________________________________\n",
      " Layer (type)                Output Shape              Param #   \n",
      "=================================================================\n",
      " input_2 (InputLayer)        [(None, 130, 130, 3)]     0         \n",
      "                                                                 \n",
      " conv2d_3 (Conv2D)           (None, 128, 128, 32)      896       \n",
      "                                                                 \n",
      " max_pooling2d_3 (MaxPooling  (None, 64, 64, 32)       0         \n",
      " 2D)                                                             \n",
      "                                                                 \n",
      " conv2d_4 (Conv2D)           (None, 62, 62, 64)        18496     \n",
      "                                                                 \n",
      " max_pooling2d_4 (MaxPooling  (None, 31, 31, 64)       0         \n",
      " 2D)                                                             \n",
      "                                                                 \n",
      " conv2d_5 (Conv2D)           (None, 29, 29, 64)        36928     \n",
      "                                                                 \n",
      " max_pooling2d_5 (MaxPooling  (None, 14, 14, 64)       0         \n",
      " 2D)                                                             \n",
      "                                                                 \n",
      " flatten_1 (Flatten)         (None, 12544)             0         \n",
      "                                                                 \n",
      " dense_2 (Dense)             (None, 128)               1605760   \n",
      "                                                                 \n",
      " dropout_1 (Dropout)         (None, 128)               0         \n",
      "                                                                 \n",
      " dense_3 (Dense)             (None, 1)                 129       \n",
      "                                                                 \n",
      "=================================================================\n",
      "Total params: 1,662,209\n",
      "Trainable params: 1,662,209\n",
      "Non-trainable params: 0\n",
      "_________________________________________________________________\n"
     ]
    }
   ],
   "source": [
    "model.summary()"
   ]
  },
  {
   "cell_type": "code",
   "execution_count": 53,
   "id": "6bbdc93b-2f88-4c33-9a77-47b5c7bcfd14",
   "metadata": {},
   "outputs": [],
   "source": [
    "from tensorflow.keras.callbacks import EarlyStopping"
   ]
  },
  {
   "cell_type": "code",
   "execution_count": 54,
   "id": "2f4650fa-782d-4ae8-a5aa-e5705061c2ca",
   "metadata": {},
   "outputs": [],
   "source": [
    "early_stop = EarlyStopping(monitor = 'val_loss', patience=2)"
   ]
  },
  {
   "cell_type": "code",
   "execution_count": 55,
   "id": "3489cd90-1f3e-4493-96b5-d7ff46079ab0",
   "metadata": {},
   "outputs": [],
   "source": [
    "batch_size = 16"
   ]
  },
  {
   "cell_type": "code",
   "execution_count": 56,
   "id": "b577e6fa-67ad-4907-9256-fcbcff57d425",
   "metadata": {},
   "outputs": [
    {
     "data": {
      "text/plain": [
       "(130, 130, 3)"
      ]
     },
     "execution_count": 56,
     "metadata": {},
     "output_type": "execute_result"
    }
   ],
   "source": [
    "image_shape[:3]"
   ]
  },
  {
   "cell_type": "markdown",
   "id": "5088e16a-0a0c-4d34-a81b-10e662c1b09c",
   "metadata": {},
   "source": [
    "### image_shape size를 기반으로 train과 test 이미지 생성"
   ]
  },
  {
   "cell_type": "code",
   "execution_count": 57,
   "id": "d9b9fb76-cf93-4a2e-b405-67d6a9d933cf",
   "metadata": {},
   "outputs": [
    {
     "name": "stdout",
     "output_type": "stream",
     "text": [
      "Found 24958 images belonging to 2 classes.\n"
     ]
    }
   ],
   "source": [
    "train_img_gen = image_gen.flow_from_directory(train_path, \n",
    "                                                target_size = image_shape[:2],\n",
    "                                                color_mode = 'rgb',\n",
    "                                                batch_size = batch_size,\n",
    "                                                class_mode = 'binary')"
   ]
  },
  {
   "cell_type": "code",
   "execution_count": 58,
   "id": "906f3050-82b3-4717-85a2-df68e76f72df",
   "metadata": {},
   "outputs": [
    {
     "name": "stdout",
     "output_type": "stream",
     "text": [
      "Found 2600 images belonging to 2 classes.\n"
     ]
    }
   ],
   "source": [
    "test_img_gen = image_gen.flow_from_directory(test_path, \n",
    "                                                target_size = image_shape[:2],\n",
    "                                                color_mode = 'rgb',\n",
    "                                                batch_size = batch_size,\n",
    "                                                class_mode = 'binary',\n",
    "                                                shuffle = False)"
   ]
  },
  {
   "cell_type": "code",
   "execution_count": null,
   "id": "41d63b6d-7076-4ec2-bcd1-4c5374bd3a36",
   "metadata": {},
   "outputs": [
    {
     "data": {
      "text/plain": [
       "{'parasitized': 0, 'uninfected': 1}"
      ]
     },
     "execution_count": 59,
     "metadata": {},
     "output_type": "execute_result"
    }
   ],
   "source": [
    "train_img_gen.class_indices"
   ]
  },
  {
   "cell_type": "markdown",
   "id": "1323d294-c0ed-44c3-97f1-61595f900ee3",
   "metadata": {},
   "source": [
    "### 모델 학습"
   ]
  },
  {
   "cell_type": "code",
   "execution_count": 60,
   "id": "989659d5-95a7-45cf-a147-fd85bf9f7441",
   "metadata": {},
   "outputs": [
    {
     "name": "stderr",
     "output_type": "stream",
     "text": [
      "C:\\Users\\user\\AppData\\Local\\Temp/ipykernel_3504/2262677257.py:1: UserWarning: `Model.fit_generator` is deprecated and will be removed in a future version. Please use `Model.fit`, which supports generators.\n",
      "  results = model.fit_generator(train_img_gen, epochs=20,\n"
     ]
    },
    {
     "name": "stdout",
     "output_type": "stream",
     "text": [
      "Epoch 1/20\n",
      "1560/1560 [==============================] - 415s 261ms/step - loss: 0.9168 - accuracy: 0.5475 - val_loss: 0.6816 - val_accuracy: 0.5662\n",
      "Epoch 2/20\n",
      "1560/1560 [==============================] - 182s 116ms/step - loss: 0.6814 - accuracy: 0.5750 - val_loss: 0.6756 - val_accuracy: 0.5850\n",
      "Epoch 3/20\n",
      "1560/1560 [==============================] - 180s 115ms/step - loss: 0.6733 - accuracy: 0.5909 - val_loss: 0.6810 - val_accuracy: 0.5688\n",
      "Epoch 4/20\n",
      "1560/1560 [==============================] - 182s 117ms/step - loss: 0.6706 - accuracy: 0.5944 - val_loss: 0.6670 - val_accuracy: 0.6008\n",
      "Epoch 5/20\n",
      "1560/1560 [==============================] - 174s 111ms/step - loss: 0.6630 - accuracy: 0.6106 - val_loss: 0.6635 - val_accuracy: 0.6131\n",
      "Epoch 6/20\n",
      "1560/1560 [==============================] - 178s 114ms/step - loss: 0.6608 - accuracy: 0.6130 - val_loss: 0.6665 - val_accuracy: 0.5927\n",
      "Epoch 7/20\n",
      "1560/1560 [==============================] - 176s 113ms/step - loss: 0.6188 - accuracy: 0.6784 - val_loss: 0.5279 - val_accuracy: 0.7223\n",
      "Epoch 8/20\n",
      "1560/1560 [==============================] - 178s 114ms/step - loss: 0.2659 - accuracy: 0.9159 - val_loss: 0.2036 - val_accuracy: 0.9319\n",
      "Epoch 9/20\n",
      "1560/1560 [==============================] - 178s 114ms/step - loss: 0.2034 - accuracy: 0.9395 - val_loss: 0.1926 - val_accuracy: 0.9392\n",
      "Epoch 10/20\n",
      "1560/1560 [==============================] - 182s 116ms/step - loss: 0.1932 - accuracy: 0.9423 - val_loss: 0.1811 - val_accuracy: 0.9346\n",
      "Epoch 11/20\n",
      "1560/1560 [==============================] - 175s 112ms/step - loss: 0.1917 - accuracy: 0.9424 - val_loss: 0.2172 - val_accuracy: 0.9235\n",
      "Epoch 12/20\n",
      "1560/1560 [==============================] - 172s 111ms/step - loss: 0.1789 - accuracy: 0.9448 - val_loss: 0.1622 - val_accuracy: 0.9454\n",
      "Epoch 13/20\n",
      "1560/1560 [==============================] - 188s 120ms/step - loss: 0.1767 - accuracy: 0.9461 - val_loss: 0.1761 - val_accuracy: 0.9446\n",
      "Epoch 14/20\n",
      "1560/1560 [==============================] - 179s 115ms/step - loss: 0.1760 - accuracy: 0.9460 - val_loss: 0.1672 - val_accuracy: 0.9450\n"
     ]
    }
   ],
   "source": [
    "results = model.fit_generator(train_img_gen, epochs=20,\n",
    "                              validation_data = test_img_gen,\n",
    "                              callbacks=[early_stop])"
   ]
  },
  {
   "cell_type": "code",
   "execution_count": 61,
   "id": "3d184d68-5594-4142-a896-bd395a1422c8",
   "metadata": {},
   "outputs": [
    {
     "data": {
      "image/png": "[encoded data removed]",
      "text/plain": [
       "<Figure size 432x288 with 1 Axes>"
      ]
     },
     "metadata": {
      "needs_background": "light"
     },
     "output_type": "display_data"
    }
   ],
   "source": [
    "plt.plot(results.history['loss'], label = 'loss')\n",
    "plt.plot(results.history['val_loss'], label = 'val_loss')\n",
    "plt.xlabel('epoch')\n",
    "plt.ylabel('loss')\n",
    "plt.legend()\n",
    "plt.savefig('output.png', dpi=300)"
   ]
  },
  {
   "cell_type": "code",
   "execution_count": 62,
   "id": "6c90a67a-bae0-4797-879d-172abf8c77aa",
   "metadata": {},
   "outputs": [
    {
     "data": {
      "image/png": "[encoded data removed]",
      "text/plain": [
       "<Figure size 432x288 with 1 Axes>"
      ]
     },
     "metadata": {
      "needs_background": "light"
     },
     "output_type": "display_data"
    }
   ],
   "source": [
    "plt.plot(results.history['accuracy'], label = 'accuracy')\n",
    "plt.plot(results.history['val_accuracy'], label = 'val_accuracy')\n",
    "plt.xlabel('epoch')\n",
    "plt.ylabel('loss')\n",
    "plt.legend()\n",
    "plt.savefig('output2.png', dpi=300)"
   ]
  },
  {
   "cell_type": "markdown",
   "id": "b72bb305-8a13-4d82-b16c-d2cc6e3c0130",
   "metadata": {},
   "source": [
    "### epoch 14 기준 val_loss: 0.1672 - val_accuracy: 0.9450. \n",
    "* train 데이터와 test 데이터 정확도 손실 추이를 비교하여 큰 차이가 없음"
   ]
  },
  {
   "cell_type": "markdown",
   "id": "698b6712-f256-497d-a359-11b7a43db29a",
   "metadata": {},
   "source": [
    "### scikit-learn metrics를 활용한 모델 평가"
   ]
  },
  {
   "cell_type": "code",
   "execution_count": 63,
   "id": "54016e16-df94-4816-bcf2-aa629bbc4bc4",
   "metadata": {},
   "outputs": [
    {
     "name": "stderr",
     "output_type": "stream",
     "text": [
      "C:\\Users\\user\\AppData\\Local\\Temp/ipykernel_3504/2315898446.py:1: UserWarning: `Model.evaluate_generator` is deprecated and will be removed in a future version. Please use `Model.evaluate`, which supports generators.\n",
      "  model.evaluate_generator(test_img_gen)\n"
     ]
    },
    {
     "data": {
      "text/plain": [
       "[0.16058245301246643, 0.9442307949066162]"
      ]
     },
     "execution_count": 63,
     "metadata": {},
     "output_type": "execute_result"
    }
   ],
   "source": [
    "model.evaluate_generator(test_img_gen)"
   ]
  },
  {
   "cell_type": "code",
   "execution_count": 64,
   "id": "79cd34b7-c27d-494f-a0ee-f0f7aa13317e",
   "metadata": {},
   "outputs": [
    {
     "data": {
      "text/plain": [
       "['loss', 'accuracy']"
      ]
     },
     "execution_count": 64,
     "metadata": {},
     "output_type": "execute_result"
    }
   ],
   "source": [
    "model.metrics_names"
   ]
  },
  {
   "cell_type": "markdown",
   "id": "5649f4af-59f2-4ee7-b0a7-b56c80213d4f",
   "metadata": {},
   "source": [
    "### 모델을 통하여 테스트용으로 생성된 이미지에 대한 예측 수행"
   ]
  },
  {
   "cell_type": "code",
   "execution_count": 65,
   "id": "bc429253-019b-4c88-a0ce-0c6c8ac79bbd",
   "metadata": {},
   "outputs": [
    {
     "name": "stdout",
     "output_type": "stream",
     "text": [
      "163/163 [==============================] - 17s 101ms/step\n"
     ]
    }
   ],
   "source": [
    "prediction = model.predict(test_img_gen)"
   ]
  },
  {
   "cell_type": "code",
   "execution_count": 75,
   "id": "885f3d8a-40fa-46b3-a22d-54dea41f21ef",
   "metadata": {},
   "outputs": [
    {
     "data": {
      "text/plain": [
       "array([[6.53875060e-03],\n",
       "       [1.08483575e-04],\n",
       "       [6.62699995e-06],\n",
       "       ...,\n",
       "       [9.72804606e-01],\n",
       "       [9.76307392e-01],\n",
       "       [9.56505120e-01]], dtype=float32)"
      ]
     },
     "execution_count": 75,
     "metadata": {},
     "output_type": "execute_result"
    }
   ],
   "source": [
    "prediction # 각 이미지에 대한 예측 정확도 확률"
   ]
  },
  {
   "cell_type": "code",
   "execution_count": 71,
   "id": "969c2d53-1a0c-4c5d-96a2-eca75dfff656",
   "metadata": {},
   "outputs": [
    {
     "data": {
      "text/plain": [
       "2600"
      ]
     },
     "execution_count": 71,
     "metadata": {},
     "output_type": "execute_result"
    }
   ],
   "source": [
    "len(prediction)"
   ]
  },
  {
   "cell_type": "markdown",
   "id": "c9fd2e58-2b27-4489-b607-abc43bf79b56",
   "metadata": {},
   "source": [
    "### 0 ~ 1 사이를 오가는 prediction threshold 는 정밀도와 재현율, F1 스코어 및 P-R 곡선 AUC 영역을 구하는 데 적용\n",
    "* 감염 판정율을 내릴수록 재현율은 오르고 정밀도가 내려가며, 그 반대의 경우 정밀도가 내려가고 재현율이 내려간다. (trade-off)\n",
    "* 감염을 분류해 내는 목적의 평가 특성상 실제 오염된 세포를 탐지하는 재현율이 중요할 수 있으나, 상황에 따라 달라질 수 있음"
   ]
  },
  {
   "cell_type": "code",
   "execution_count": 84,
   "id": "077e72c7-5788-49bd-8e61-9176a61851ac",
   "metadata": {},
   "outputs": [],
   "source": [
    "predictions = prediction > 0.5"
   ]
  },
  {
   "cell_type": "code",
   "execution_count": 85,
   "id": "81dda5bc-c4dc-4994-921a-f554b4cb6623",
   "metadata": {},
   "outputs": [
    {
     "data": {
      "text/plain": [
       "array([[False],\n",
       "       [False],\n",
       "       [False],\n",
       "       ...,\n",
       "       [ True],\n",
       "       [ True],\n",
       "       [ True]])"
      ]
     },
     "execution_count": 85,
     "metadata": {},
     "output_type": "execute_result"
    }
   ],
   "source": [
    "predictions"
   ]
  },
  {
   "cell_type": "code",
   "execution_count": 86,
   "id": "8c3f9e63-6ed7-454d-9e20-7d6bda5531ee",
   "metadata": {},
   "outputs": [],
   "source": [
    "from sklearn.metrics import classification_report, confusion_matrix"
   ]
  },
  {
   "cell_type": "code",
   "execution_count": 87,
   "id": "3dc44fd4-84c8-4fd4-be9d-01d4db996927",
   "metadata": {},
   "outputs": [
    {
     "data": {
      "text/plain": [
       "array([0, 0, 0, ..., 1, 1, 1])"
      ]
     },
     "execution_count": 87,
     "metadata": {},
     "output_type": "execute_result"
    }
   ],
   "source": [
    "test_img_gen.classes"
   ]
  },
  {
   "cell_type": "code",
   "execution_count": 88,
   "id": "be9b6f8a-a6f0-4eb6-bdc0-3eb5bd8e5d82",
   "metadata": {},
   "outputs": [
    {
     "name": "stdout",
     "output_type": "stream",
     "text": [
      "              precision    recall  f1-score   support\n",
      "\n",
      "           0       0.96      0.93      0.95      1300\n",
      "           1       0.93      0.96      0.95      1300\n",
      "\n",
      "    accuracy                           0.95      2600\n",
      "   macro avg       0.95      0.95      0.95      2600\n",
      "weighted avg       0.95      0.95      0.95      2600\n",
      "\n"
     ]
    }
   ],
   "source": [
    "print(classification_report(test_img_gen.classes, predictions))"
   ]
  },
  {
   "cell_type": "code",
   "execution_count": 80,
   "id": "216279e6-6d45-46a2-bc6b-8bcb9e4ce87c",
   "metadata": {},
   "outputs": [],
   "source": [
    "predictions = prediction > 0.3"
   ]
  },
  {
   "cell_type": "code",
   "execution_count": 81,
   "id": "6b88715d-7ad9-4450-ad6c-57e4613b03ac",
   "metadata": {},
   "outputs": [
    {
     "name": "stdout",
     "output_type": "stream",
     "text": [
      "              precision    recall  f1-score   support\n",
      "\n",
      "           0       0.98      0.90      0.94      1300\n",
      "           1       0.91      0.98      0.94      1300\n",
      "\n",
      "    accuracy                           0.94      2600\n",
      "   macro avg       0.94      0.94      0.94      2600\n",
      "weighted avg       0.94      0.94      0.94      2600\n",
      "\n"
     ]
    }
   ],
   "source": [
    "print(classification_report(test_img_gen.classes, predictions))"
   ]
  },
  {
   "cell_type": "code",
   "execution_count": 82,
   "id": "cd151462-9978-456a-b4b9-59db12742000",
   "metadata": {},
   "outputs": [],
   "source": [
    "predictions = prediction > 0.7"
   ]
  },
  {
   "cell_type": "code",
   "execution_count": 83,
   "id": "c6574de8-4d47-47e8-b962-c14f1d6b31f1",
   "metadata": {},
   "outputs": [
    {
     "name": "stdout",
     "output_type": "stream",
     "text": [
      "              precision    recall  f1-score   support\n",
      "\n",
      "           0       0.95      0.94      0.94      1300\n",
      "           1       0.94      0.95      0.95      1300\n",
      "\n",
      "    accuracy                           0.94      2600\n",
      "   macro avg       0.95      0.95      0.94      2600\n",
      "weighted avg       0.95      0.94      0.94      2600\n",
      "\n"
     ]
    }
   ],
   "source": [
    "print(classification_report(test_img_gen.classes, predictions))"
   ]
  },
  {
   "cell_type": "code",
   "execution_count": 89,
   "id": "215a48c5-078d-49b1-b5e2-e8bce3995dab",
   "metadata": {},
   "outputs": [
    {
     "data": {
      "text/plain": [
       "array([[1210,   90],\n",
       "       [  47, 1253]], dtype=int64)"
      ]
     },
     "execution_count": 89,
     "metadata": {},
     "output_type": "execute_result"
    }
   ],
   "source": [
    "confusion_matrix(test_img_gen.classes, predictions) # 0.5 threshhold"
   ]
  },
  {
   "cell_type": "markdown",
   "id": "5c13eea9-ccd5-4720-a31b-36b0ac860ce5",
   "metadata": {},
   "source": [
    "#### 옳게 분류한 것은 2463개, 틀리게 분류한 것은 137개"
   ]
  },
  {
   "cell_type": "code",
   "execution_count": null,
   "id": "90525635-c598-4f3f-8b18-4a495918b03e",
   "metadata": {},
   "outputs": [],
   "source": []
  },
  {
   "cell_type": "code",
   "execution_count": null,
   "id": "7c3d7dff-1ddd-4794-9406-14ba62f38918",
   "metadata": {},
   "outputs": [],
   "source": []
  }
 ],
 "metadata": {
  "kernelspec": {
   "display_name": "Python 3 (ipykernel)",
   "language": "python",
   "name": "python3"
  },
  "language_info": {
   "codemirror_mode": {
    "name": "ipython",
    "version": 3
   },
   "file_extension": ".py",
   "mimetype": "text/x-python",
   "name": "python",
   "nbconvert_exporter": "python",
   "pygments_lexer": "ipython3",
   "version": "3.9.7"
  }
 },
 "nbformat": 4,
 "nbformat_minor": 5
}
