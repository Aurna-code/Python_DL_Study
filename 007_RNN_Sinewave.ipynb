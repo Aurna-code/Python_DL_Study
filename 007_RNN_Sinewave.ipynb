{
 "cells": [
  {
   "cell_type": "markdown",
   "id": "9d272185-b879-46a6-8b6d-64de97fc9e12",
   "metadata": {},
   "source": [
    "## RNN\n",
    "\n",
    "* 시간적으로 연속되는 데이터를 다루기 위한 신경망\n",
    "* 연속되는 데이터들의 예제\n",
    "* 판매량\n",
    "* 음성, 음악\n",
    "* 이동 궤적\n"
   ]
  },
  {
   "cell_type": "markdown",
   "id": "61f38256-3ffc-49f4-9653-483e3eb074db",
   "metadata": {},
   "source": [
    "### Recurrent Neuron\n",
    "\n",
    "* [1,2,3,4,5,6] 에서 [2,3,4,5,6,7]을 예측할 수 있는가?\n",
    "* Recurrent Neuron - output을 그 자신에 돌려보내는 뉴런\n",
    "* t-1 시점의 뉴런 output이 t 시점에 뉴런에 들어가는 input 과 함께 feed\n",
    "* 이렇게 이전 step의 input이 추가되는 cell은 memory cell 이라고 불림\n",
    "* Recurrent 뉴런의 원리는 Layer 단위로도 적용 가능하여, 레이어의 단일 output을 해당 레이어의 각 노드의 input으로 돌려보낼 수 있음"
   ]
  },
  {
   "cell_type": "markdown",
   "id": "a2882764-8929-4fbc-83f6-0dbb7ee2f102",
   "metadata": {},
   "source": [
    "### RNN의 활용\n",
    "* 입력값과 출력값의 설정에 따라 여러 가지 상황에서 적용\n",
    "1. 다수 입력 단일 출력 구조 : 문장의 뜻을 읽고 파악\n",
    "- '밥은 + '먹고' + '다니니' => 안부인사\n",
    "2. 단일 입력 다수 출력 구조 : 사진 캡션\n",
    "- '바퀴' + '직육면체' + '번호' => 버스\n",
    "3. 다수 일벽 다수 출력 구조 : 문장 번역\n",
    "- '예' + '그게' + '다에요' => Yes, that's all."
   ]
  },
  {
   "cell_type": "markdown",
   "id": "dd669860-82c2-463e-82bd-dad6aecaa587",
   "metadata": {},
   "source": [
    "### Basic RNN의 단점\n",
    "* 만약 t 시점에서 바로 전인 t-1 시점의 output만 적용할 수 있다면 long term memory가 존재할 수 없음\n",
    "* 결과값 기울기가 0이 되어버리는 vanishing gradient 문제도 존재\n",
    "* 활성화함수의 조정(Relu, Leaky Relu)나 정규화를 쓸 수도 있지만, time series input을 다루는 RNN의 특성상 학습이 너무 느려질 수 있음\n",
    "* 예측에 쓰일 time step을 줄일 수도 있지만 이 때는 장기적 예측이 힘들어짐"
   ]
  },
  {
   "cell_type": "markdown",
   "id": "7dcfed9d-a0ea-43c1-a88f-9591abaf0617",
   "metadata": {},
   "source": [
    "### LSTM cell\n",
    "* 1. Cell state\n",
    "-  정보가 바뀌지 않고 기억,흐름\n",
    "* 2. Forget gate\n",
    "- cell state에서 sigmoid layer를 거쳐 어떤 정보를 버릴지 정함\n",
    "* 3. Input gate\n",
    "- 새로운 정보 중 어떤 것을 cell state에 저장할지 정함\n",
    "- sigmoid layer를 거쳐 어떤 값을 업데이트할지 정하고 tanh layer에서 새로운 후보 vector를 만듬\n",
    "* 4. Cell state update\n",
    "- 이전 gate에서 정해진 버릴 정보와 업데이트할 정보를 "
   ]
  },
  {
   "cell_type": "markdown",
   "id": "7d57a333-759b-4696-8e40-96d30e93542e",
   "metadata": {},
   "source": [
    "### sine wave에 대한 RNN 적용\n",
    "* 임의의 sine 그래프를 생성하고 train_set 과 test_set으로 나누기\n",
    "* train_set을 기반으로 예측한 그래프의 파형이 test_set과 얼마나 일치하는가\n"
   ]
  },
  {
   "cell_type": "code",
   "execution_count": 1,
   "id": "caec9eff-7dd1-42ba-a9c4-0c76e4d5de88",
   "metadata": {},
   "outputs": [],
   "source": [
    "import pandas as pd\n",
    "import numpy as np\n",
    "%matplotlib inline\n",
    "import matplotlib.pyplot as plt"
   ]
  },
  {
   "cell_type": "code",
   "execution_count": 2,
   "id": "6f5c80ff-ea30-489c-805d-81c6bd9e1427",
   "metadata": {},
   "outputs": [],
   "source": [
    "x = np.linspace(0,50,501)"
   ]
  },
  {
   "cell_type": "code",
   "execution_count": 3,
   "id": "063e2096-8a1d-4350-99b0-be9901f8b7a7",
   "metadata": {},
   "outputs": [],
   "source": [
    "# x"
   ]
  },
  {
   "cell_type": "code",
   "execution_count": 4,
   "id": "ee2af635-056c-4de4-b72e-af24a2ff870b",
   "metadata": {},
   "outputs": [],
   "source": [
    "y = np.sin(x)"
   ]
  },
  {
   "cell_type": "code",
   "execution_count": 5,
   "id": "794725fc-76d5-47ad-8911-8e6bacfcee7e",
   "metadata": {},
   "outputs": [],
   "source": [
    "# y"
   ]
  },
  {
   "cell_type": "code",
   "execution_count": 6,
   "id": "3532cde2-42f3-4b42-b0b8-b859237975ce",
   "metadata": {},
   "outputs": [
    {
     "data": {
      "text/plain": [
       "[<matplotlib.lines.Line2D at 0x237d82cc910>]"
      ]
     },
     "execution_count": 6,
     "metadata": {},
     "output_type": "execute_result"
    },
    {
     "data": {
      "image/png": "[encoded data removed]",
      "text/plain": [
       "<Figure size 432x288 with 1 Axes>"
      ]
     },
     "metadata": {
      "needs_background": "light"
     },
     "output_type": "display_data"
    }
   ],
   "source": [
    "plt.plot(x,y)"
   ]
  },
  {
   "cell_type": "code",
   "execution_count": 7,
   "id": "58414e80-24f2-4100-9f10-f64d7b2e3756",
   "metadata": {},
   "outputs": [],
   "source": [
    "df = pd.DataFrame(data=y, index=x, columns=['Sine'])"
   ]
  },
  {
   "cell_type": "code",
   "execution_count": 8,
   "id": "fb4d3db9-c9ff-4a94-b2d5-2f8c02efaeea",
   "metadata": {},
   "outputs": [
    {
     "data": {
      "text/html": [
       "<div>\n",
       "<style scoped>\n",
       "    .dataframe tbody tr th:only-of-type {\n",
       "        vertical-align: middle;\n",
       "    }\n",
       "\n",
       "    .dataframe tbody tr th {\n",
       "        vertical-align: top;\n",
       "    }\n",
       "\n",
       "    .dataframe thead th {\n",
       "        text-align: right;\n",
       "    }\n",
       "</style>\n",
       "<table border=\"1\" class=\"dataframe\">\n",
       "  <thead>\n",
       "    <tr style=\"text-align: right;\">\n",
       "      <th></th>\n",
       "      <th>Sine</th>\n",
       "    </tr>\n",
       "  </thead>\n",
       "  <tbody>\n",
       "    <tr>\n",
       "      <th>0.0</th>\n",
       "      <td>0.000000</td>\n",
       "    </tr>\n",
       "    <tr>\n",
       "      <th>0.1</th>\n",
       "      <td>0.099833</td>\n",
       "    </tr>\n",
       "    <tr>\n",
       "      <th>0.2</th>\n",
       "      <td>0.198669</td>\n",
       "    </tr>\n",
       "    <tr>\n",
       "      <th>0.3</th>\n",
       "      <td>0.295520</td>\n",
       "    </tr>\n",
       "    <tr>\n",
       "      <th>0.4</th>\n",
       "      <td>0.389418</td>\n",
       "    </tr>\n",
       "    <tr>\n",
       "      <th>...</th>\n",
       "      <td>...</td>\n",
       "    </tr>\n",
       "    <tr>\n",
       "      <th>49.6</th>\n",
       "      <td>-0.617439</td>\n",
       "    </tr>\n",
       "    <tr>\n",
       "      <th>49.7</th>\n",
       "      <td>-0.535823</td>\n",
       "    </tr>\n",
       "    <tr>\n",
       "      <th>49.8</th>\n",
       "      <td>-0.448854</td>\n",
       "    </tr>\n",
       "    <tr>\n",
       "      <th>49.9</th>\n",
       "      <td>-0.357400</td>\n",
       "    </tr>\n",
       "    <tr>\n",
       "      <th>50.0</th>\n",
       "      <td>-0.262375</td>\n",
       "    </tr>\n",
       "  </tbody>\n",
       "</table>\n",
       "<p>501 rows × 1 columns</p>\n",
       "</div>"
      ],
      "text/plain": [
       "          Sine\n",
       "0.0   0.000000\n",
       "0.1   0.099833\n",
       "0.2   0.198669\n",
       "0.3   0.295520\n",
       "0.4   0.389418\n",
       "...        ...\n",
       "49.6 -0.617439\n",
       "49.7 -0.535823\n",
       "49.8 -0.448854\n",
       "49.9 -0.357400\n",
       "50.0 -0.262375\n",
       "\n",
       "[501 rows x 1 columns]"
      ]
     },
     "execution_count": 8,
     "metadata": {},
     "output_type": "execute_result"
    }
   ],
   "source": [
    "df"
   ]
  },
  {
   "cell_type": "code",
   "execution_count": 9,
   "id": "2ee41516-c8cf-4c84-a627-56b18add9e4f",
   "metadata": {},
   "outputs": [],
   "source": [
    "test_percent = 0.1   # 1/10 테스트 셋"
   ]
  },
  {
   "cell_type": "code",
   "execution_count": 10,
   "id": "9f172e94-3a39-4aec-b97c-1f37c2f55e4b",
   "metadata": {},
   "outputs": [
    {
     "data": {
      "text/plain": [
       "50.1"
      ]
     },
     "execution_count": 10,
     "metadata": {},
     "output_type": "execute_result"
    }
   ],
   "source": [
    "len(df)*test_percent"
   ]
  },
  {
   "cell_type": "code",
   "execution_count": 11,
   "id": "e9e6a25f-24d9-4532-9683-7cf8077d6e6a",
   "metadata": {},
   "outputs": [],
   "source": [
    "test_point = np.round(len(df)*test_percent)  # "
   ]
  },
  {
   "cell_type": "code",
   "execution_count": 12,
   "id": "46499027-0c12-435b-9e86-db75994573e2",
   "metadata": {},
   "outputs": [
    {
     "data": {
      "text/plain": [
       "50.0"
      ]
     },
     "execution_count": 12,
     "metadata": {},
     "output_type": "execute_result"
    }
   ],
   "source": [
    "test_point"
   ]
  },
  {
   "cell_type": "code",
   "execution_count": 13,
   "id": "5e4a740c-6295-49a8-a8d2-c3c65584c640",
   "metadata": {},
   "outputs": [],
   "source": [
    "test_ind = int(len(df)-test_point)"
   ]
  },
  {
   "cell_type": "code",
   "execution_count": 14,
   "id": "0c3816d1-9d37-4014-908a-75d9e533344e",
   "metadata": {},
   "outputs": [
    {
     "data": {
      "text/plain": [
       "451"
      ]
     },
     "execution_count": 14,
     "metadata": {},
     "output_type": "execute_result"
    }
   ],
   "source": [
    "test_ind"
   ]
  },
  {
   "cell_type": "code",
   "execution_count": 15,
   "id": "cb68efb8-fb27-4f19-9fd9-2a64ef7ea379",
   "metadata": {},
   "outputs": [],
   "source": [
    "train = df.iloc[:test_ind] # 451 rows"
   ]
  },
  {
   "cell_type": "code",
   "execution_count": 16,
   "id": "c954a7f6-c387-4bc5-8970-5ca6a9e3e517",
   "metadata": {},
   "outputs": [],
   "source": [
    "test = df.iloc[test_ind:] # 50 rows"
   ]
  },
  {
   "cell_type": "code",
   "execution_count": 17,
   "id": "8d8428e3-449f-4ec5-a870-b366e06ff149",
   "metadata": {},
   "outputs": [],
   "source": [
    "from sklearn.preprocessing import MinMaxScaler"
   ]
  },
  {
   "cell_type": "code",
   "execution_count": 18,
   "id": "c88cbd22-9dae-488d-bcda-8cef76ea2dd6",
   "metadata": {},
   "outputs": [
    {
     "data": {
      "text/plain": [
       "MinMaxScaler()"
      ]
     },
     "execution_count": 18,
     "metadata": {},
     "output_type": "execute_result"
    }
   ],
   "source": [
    "scaler = MinMaxScaler()\n",
    "scaler.fit(train)"
   ]
  },
  {
   "cell_type": "code",
   "execution_count": 19,
   "id": "91bf618c-6e68-4f4d-8a07-b19f5cc49703",
   "metadata": {},
   "outputs": [],
   "source": [
    "scaled_train = scaler.transform(train)\n",
    "scaled_test = scaler.transform(test)"
   ]
  },
  {
   "cell_type": "code",
   "execution_count": 20,
   "id": "776df448-d48a-4035-bba3-5a886000019d",
   "metadata": {},
   "outputs": [],
   "source": [
    "from tensorflow.keras.preprocessing.sequence import TimeseriesGenerator"
   ]
  },
  {
   "cell_type": "code",
   "execution_count": 21,
   "id": "9270be39-4e1d-4750-9a8d-cd8d28e7989c",
   "metadata": {},
   "outputs": [],
   "source": [
    "length = 4\n",
    "batch_size = 1\n",
    "\n",
    "generator = TimeseriesGenerator(scaled_train, scaled_train,\n",
    "                               length = length, batch_size = batch_size)"
   ]
  },
  {
   "cell_type": "code",
   "execution_count": 22,
   "id": "27437866-43ac-4ee7-92e7-120f02fdb130",
   "metadata": {},
   "outputs": [
    {
     "data": {
      "text/plain": [
       "447"
      ]
     },
     "execution_count": 22,
     "metadata": {},
     "output_type": "execute_result"
    }
   ],
   "source": [
    "len(generator)"
   ]
  },
  {
   "cell_type": "code",
   "execution_count": 23,
   "id": "d4507376-4bea-4937-94a1-710e0fbb7db2",
   "metadata": {},
   "outputs": [],
   "source": [
    "X,y = generator[0]"
   ]
  },
  {
   "cell_type": "code",
   "execution_count": 24,
   "id": "a8d7bfd2-8cc3-421c-b446-22b0d5c6d352",
   "metadata": {},
   "outputs": [
    {
     "data": {
      "text/plain": [
       "array([[[0.49999912],\n",
       "        [0.54991622],\n",
       "        [0.59933458],\n",
       "        [0.64776041]]])"
      ]
     },
     "execution_count": 24,
     "metadata": {},
     "output_type": "execute_result"
    }
   ],
   "source": [
    "X"
   ]
  },
  {
   "cell_type": "code",
   "execution_count": 25,
   "id": "c074bd4e-de99-47bb-93c1-a59b6b1bdf9c",
   "metadata": {},
   "outputs": [
    {
     "data": {
      "text/plain": [
       "array([[0.69470985]])"
      ]
     },
     "execution_count": 25,
     "metadata": {},
     "output_type": "execute_result"
    }
   ],
   "source": [
    "y"
   ]
  },
  {
   "cell_type": "code",
   "execution_count": 26,
   "id": "f9ee18af-c991-4aa8-8e9a-9f91aaf82461",
   "metadata": {},
   "outputs": [
    {
     "data": {
      "text/plain": [
       "<AxesSubplot:>"
      ]
     },
     "execution_count": 26,
     "metadata": {},
     "output_type": "execute_result"
    },
    {
     "data": {
      "image/png": "[encoded data removed]",
      "text/plain": [
       "<Figure size 432x288 with 1 Axes>"
      ]
     },
     "metadata": {
      "needs_background": "light"
     },
     "output_type": "display_data"
    }
   ],
   "source": [
    "df.plot()"
   ]
  },
  {
   "cell_type": "code",
   "execution_count": 27,
   "id": "f9e3d614-966b-4c49-b488-639209a3ffcf",
   "metadata": {},
   "outputs": [],
   "source": [
    "length = 50\n",
    "bach_size = 1\n",
    "generator = TimeseriesGenerator(scaled_train, scaled_train, length=length, batch_size = batch_size)"
   ]
  },
  {
   "cell_type": "code",
   "execution_count": 28,
   "id": "6a81ceec-0fd6-4a3c-b97e-0e81efda9392",
   "metadata": {},
   "outputs": [],
   "source": [
    "import tensorflow as tf\n",
    "from tensorflow import keras\n",
    "from tensorflow.keras.layers import Dense, SimpleRNN, LSTM\n",
    "from keras import layers"
   ]
  },
  {
   "cell_type": "code",
   "execution_count": 29,
   "id": "5797251c-c010-471c-a448-d6ccb017bd07",
   "metadata": {},
   "outputs": [],
   "source": [
    "n_features = 1  # x -> y 예측용 one feature input"
   ]
  },
  {
   "cell_type": "code",
   "execution_count": 30,
   "id": "86f1c064-b313-4f7a-889e-dfeec80455c3",
   "metadata": {},
   "outputs": [],
   "source": [
    "intro = keras.Input(shape=(length, n_features))\n",
    "x1 = layers.SimpleRNN(50)(intro)\n",
    "outro = layers.Dense(1)(x1)\n",
    "\n",
    "model = keras.Model(inputs = intro, outputs = outro)\n",
    "model.compile(optimizer = 'adam', loss = 'mse')"
   ]
  },
  {
   "cell_type": "code",
   "execution_count": 31,
   "id": "2a023c26-ef00-4300-ad3c-10b639cceef9",
   "metadata": {},
   "outputs": [
    {
     "name": "stdout",
     "output_type": "stream",
     "text": [
      "Model: \"model\"\n",
      "_________________________________________________________________\n",
      " Layer (type)                Output Shape              Param #   \n",
      "=================================================================\n",
      " input_1 (InputLayer)        [(None, 50, 1)]           0         \n",
      "                                                                 \n",
      " simple_rnn (SimpleRNN)      (None, 50)                2600      \n",
      "                                                                 \n",
      " dense (Dense)               (None, 1)                 51        \n",
      "                                                                 \n",
      "=================================================================\n",
      "Total params: 2,651\n",
      "Trainable params: 2,651\n",
      "Non-trainable params: 0\n",
      "_________________________________________________________________\n"
     ]
    }
   ],
   "source": [
    "model.summary()"
   ]
  },
  {
   "cell_type": "code",
   "execution_count": 32,
   "id": "a1089b38-116d-4636-ae00-878ee4a0980a",
   "metadata": {},
   "outputs": [
    {
     "name": "stdout",
     "output_type": "stream",
     "text": [
      "Epoch 1/5\n",
      "401/401 [==============================] - 16s 35ms/step - loss: 0.0046\n",
      "Epoch 2/5\n",
      "401/401 [==============================] - 15s 37ms/step - loss: 7.6344e-05\n",
      "Epoch 3/5\n",
      "401/401 [==============================] - 15s 36ms/step - loss: 3.2548e-05\n",
      "Epoch 4/5\n",
      "401/401 [==============================] - 15s 37ms/step - loss: 1.5995e-04\n",
      "Epoch 5/5\n",
      "401/401 [==============================] - 14s 36ms/step - loss: 2.6175e-04\n"
     ]
    },
    {
     "data": {
      "text/plain": [
       "<keras.callbacks.History at 0x237e2e512b0>"
      ]
     },
     "execution_count": 32,
     "metadata": {},
     "output_type": "execute_result"
    }
   ],
   "source": [
    "model.fit(generator, epochs=5)"
   ]
  },
  {
   "cell_type": "code",
   "execution_count": 33,
   "id": "e278ef9e-ed4a-4f1c-ba53-531c6b5a8316",
   "metadata": {},
   "outputs": [],
   "source": [
    "losses = pd.DataFrame(model.history.history)"
   ]
  },
  {
   "cell_type": "code",
   "execution_count": 34,
   "id": "5a5d3e69-97c6-4c5b-9654-e94c99389b55",
   "metadata": {},
   "outputs": [
    {
     "data": {
      "text/plain": [
       "<AxesSubplot:>"
      ]
     },
     "execution_count": 34,
     "metadata": {},
     "output_type": "execute_result"
    },
    {
     "data": {
      "image/png": "[encoded data removed]",
      "text/plain": [
       "<Figure size 432x288 with 1 Axes>"
      ]
     },
     "metadata": {
      "needs_background": "light"
     },
     "output_type": "display_data"
    }
   ],
   "source": [
    "losses.plot()"
   ]
  },
  {
   "cell_type": "code",
   "execution_count": 35,
   "id": "70146806-2a90-4a17-80ed-4a65574433df",
   "metadata": {},
   "outputs": [],
   "source": [
    "first_eval_batch = scaled_train[-length:]\n",
    "first_eval_batch = first_eval_batch.reshape((1,length,n_features))"
   ]
  },
  {
   "cell_type": "code",
   "execution_count": 36,
   "id": "21c0cdc9-3daf-4fd8-9bb8-75d57235c1bd",
   "metadata": {},
   "outputs": [
    {
     "name": "stdout",
     "output_type": "stream",
     "text": [
      "1/1 [==============================] - 0s 205ms/step\n"
     ]
    },
    {
     "data": {
      "text/plain": [
       "array([[0.9516328]], dtype=float32)"
      ]
     },
     "execution_count": 36,
     "metadata": {},
     "output_type": "execute_result"
    }
   ],
   "source": [
    "model.predict(first_eval_batch)"
   ]
  },
  {
   "cell_type": "code",
   "execution_count": 37,
   "id": "f961c074-ca6d-47d4-9daf-802a06ba0743",
   "metadata": {},
   "outputs": [
    {
     "data": {
      "text/plain": [
       "array([0.94955134])"
      ]
     },
     "execution_count": 37,
     "metadata": {},
     "output_type": "execute_result"
    }
   ],
   "source": [
    "scaled_test[0]"
   ]
  },
  {
   "cell_type": "code",
   "execution_count": 38,
   "id": "4df11952-dc38-413d-9428-f023dda8637b",
   "metadata": {},
   "outputs": [
    {
     "name": "stdout",
     "output_type": "stream",
     "text": [
      "1/1 [==============================] - 0s 23ms/step\n",
      "1/1 [==============================] - 0s 52ms/step\n",
      "1/1 [==============================] - 0s 47ms/step\n",
      "1/1 [==============================] - 0s 35ms/step\n",
      "1/1 [==============================] - 0s 30ms/step\n",
      "1/1 [==============================] - 0s 24ms/step\n",
      "1/1 [==============================] - 0s 34ms/step\n",
      "1/1 [==============================] - 0s 25ms/step\n",
      "1/1 [==============================] - 0s 24ms/step\n",
      "1/1 [==============================] - 0s 26ms/step\n",
      "1/1 [==============================] - 0s 33ms/step\n",
      "1/1 [==============================] - 0s 28ms/step\n",
      "1/1 [==============================] - 0s 26ms/step\n",
      "1/1 [==============================] - 0s 41ms/step\n",
      "1/1 [==============================] - 0s 33ms/step\n",
      "1/1 [==============================] - 0s 25ms/step\n",
      "1/1 [==============================] - 0s 48ms/step\n",
      "1/1 [==============================] - 0s 33ms/step\n",
      "1/1 [==============================] - 0s 42ms/step\n",
      "1/1 [==============================] - 0s 30ms/step\n",
      "1/1 [==============================] - 0s 34ms/step\n",
      "1/1 [==============================] - 0s 32ms/step\n",
      "1/1 [==============================] - 0s 25ms/step\n",
      "1/1 [==============================] - 0s 28ms/step\n",
      "1/1 [==============================] - 0s 30ms/step\n",
      "1/1 [==============================] - 0s 25ms/step\n",
      "1/1 [==============================] - 0s 24ms/step\n",
      "1/1 [==============================] - 0s 32ms/step\n",
      "1/1 [==============================] - 0s 35ms/step\n",
      "1/1 [==============================] - 0s 40ms/step\n",
      "1/1 [==============================] - 0s 36ms/step\n",
      "1/1 [==============================] - 0s 38ms/step\n",
      "1/1 [==============================] - 0s 39ms/step\n",
      "1/1 [==============================] - 0s 35ms/step\n",
      "1/1 [==============================] - 0s 29ms/step\n",
      "1/1 [==============================] - 0s 27ms/step\n",
      "1/1 [==============================] - 0s 26ms/step\n",
      "1/1 [==============================] - 0s 31ms/step\n",
      "1/1 [==============================] - 0s 29ms/step\n",
      "1/1 [==============================] - 0s 26ms/step\n",
      "1/1 [==============================] - 0s 34ms/step\n",
      "1/1 [==============================] - 0s 35ms/step\n",
      "1/1 [==============================] - 0s 34ms/step\n",
      "1/1 [==============================] - 0s 34ms/step\n",
      "1/1 [==============================] - 0s 36ms/step\n",
      "1/1 [==============================] - 0s 36ms/step\n",
      "1/1 [==============================] - 0s 46ms/step\n",
      "1/1 [==============================] - 0s 33ms/step\n",
      "1/1 [==============================] - 0s 27ms/step\n",
      "1/1 [==============================] - 0s 31ms/step\n"
     ]
    }
   ],
   "source": [
    "test_predictions = []\n",
    "first_eval_batch = scaled_train[-length:]\n",
    "current_batch = first_eval_batch.reshape((1, length, n_features))\n",
    "\n",
    "for i in range(len(test)):\n",
    "    current_pred = model.predict(current_batch)[0]\n",
    "    test_predictions.append(current_pred)\n",
    "    current_batch = np.append(current_batch[:,1:,:], [[current_pred]],axis=1)"
   ]
  },
  {
   "cell_type": "code",
   "execution_count": 39,
   "id": "53df63b1-8bad-4578-9dc7-5a732de31981",
   "metadata": {},
   "outputs": [],
   "source": [
    "# predicted_value = [[[99]]]\n",
    "# np.append(current_batch[:,1:,:], predicted_value, axis=1)"
   ]
  },
  {
   "cell_type": "code",
   "execution_count": 40,
   "id": "580a1739-13cc-49a0-b5dc-66200a58edc1",
   "metadata": {},
   "outputs": [],
   "source": [
    "true_predictions = scaler.inverse_transform(test_predictions)"
   ]
  },
  {
   "cell_type": "code",
   "execution_count": 41,
   "id": "f01ec192-eb46-473c-b554-d578538cb6bc",
   "metadata": {},
   "outputs": [
    {
     "name": "stderr",
     "output_type": "stream",
     "text": [
      "C:\\Users\\user\\AppData\\Local\\Temp/ipykernel_10792/4269337381.py:1: SettingWithCopyWarning: \n",
      "A value is trying to be set on a copy of a slice from a DataFrame.\n",
      "Try using .loc[row_indexer,col_indexer] = value instead\n",
      "\n",
      "See the caveats in the documentation: https://pandas.pydata.org/pandas-docs/stable/user_guide/indexing.html#returning-a-view-versus-a-copy\n",
      "  test['Predictions'] = true_predictions\n"
     ]
    }
   ],
   "source": [
    "test['Predictions'] = true_predictions"
   ]
  },
  {
   "cell_type": "code",
   "execution_count": 42,
   "id": "47894ec3-8413-43cd-98d5-316c5044a5f4",
   "metadata": {},
   "outputs": [
    {
     "data": {
      "text/plain": [
       "<AxesSubplot:>"
      ]
     },
     "execution_count": 42,
     "metadata": {},
     "output_type": "execute_result"
    },
    {
     "data": {
      "image/png": "[encoded data removed]",
      "text/plain": [
       "<Figure size 864x576 with 1 Axes>"
      ]
     },
     "metadata": {
      "needs_background": "light"
     },
     "output_type": "display_data"
    }
   ],
   "source": [
    "test.plot(figsize = (12,8))"
   ]
  },
  {
   "cell_type": "code",
   "execution_count": 43,
   "id": "8a001e0e-944d-4ed1-8fbe-2a5fc7dd148f",
   "metadata": {},
   "outputs": [],
   "source": [
    "from tensorflow.keras.callbacks import EarlyStopping"
   ]
  },
  {
   "cell_type": "code",
   "execution_count": 44,
   "id": "dd1624a9-841f-411c-ab57-578a47da507e",
   "metadata": {},
   "outputs": [],
   "source": [
    "early_stop = EarlyStopping(monitor = 'val_loss', patience=2)"
   ]
  },
  {
   "cell_type": "code",
   "execution_count": 45,
   "id": "6a6bd22e-0bbe-4172-8594-364c527f99a4",
   "metadata": {},
   "outputs": [],
   "source": [
    "length = 49\n",
    "generator = TimeseriesGenerator(scaled_train, scaled_train, length=length, batch_size=1)\n",
    "\n",
    "validation_generator = TimeseriesGenerator(scaled_test, scaled_test, length=length, batch_size = 1)"
   ]
  },
  {
   "cell_type": "code",
   "execution_count": 46,
   "id": "8921c775-fb41-4221-b652-6516a6776142",
   "metadata": {},
   "outputs": [],
   "source": [
    "intro = keras.Input(shape=(length, n_features))\n",
    "x1 = layers.LSTM(50)(intro)\n",
    "outro = layers.Dense(1)(x1)\n",
    "\n",
    "model = keras.Model(inputs = intro, outputs = outro)\n",
    "model.compile(optimizer = 'adam', loss = 'mse')"
   ]
  },
  {
   "cell_type": "code",
   "execution_count": 47,
   "id": "bdbcf021-36c2-4a40-aa96-870091081e6f",
   "metadata": {},
   "outputs": [
    {
     "name": "stdout",
     "output_type": "stream",
     "text": [
      "Epoch 1/20\n",
      "402/402 [==============================] - 9s 10ms/step - loss: 0.0169 - val_loss: 1.2213e-04\n",
      "Epoch 2/20\n",
      "402/402 [==============================] - 3s 8ms/step - loss: 8.5079e-05 - val_loss: 5.3544e-05\n",
      "Epoch 3/20\n",
      "402/402 [==============================] - 4s 9ms/step - loss: 1.9893e-04 - val_loss: 8.3546e-06\n",
      "Epoch 4/20\n",
      "402/402 [==============================] - 4s 9ms/step - loss: 1.7529e-04 - val_loss: 1.7636e-06\n",
      "Epoch 5/20\n",
      "402/402 [==============================] - 4s 9ms/step - loss: 4.3598e-04 - val_loss: 8.1638e-06\n",
      "Epoch 6/20\n",
      "402/402 [==============================] - 3s 8ms/step - loss: 7.5010e-05 - val_loss: 1.2068e-06\n",
      "Epoch 7/20\n",
      "402/402 [==============================] - 3s 8ms/step - loss: 7.9169e-05 - val_loss: 1.7670e-06\n",
      "Epoch 8/20\n",
      "402/402 [==============================] - 3s 9ms/step - loss: 8.0780e-05 - val_loss: 1.1549e-05\n"
     ]
    },
    {
     "data": {
      "text/plain": [
       "<keras.callbacks.History at 0x237e96738e0>"
      ]
     },
     "execution_count": 47,
     "metadata": {},
     "output_type": "execute_result"
    }
   ],
   "source": [
    "model.fit(generator, epochs= 20, validation_data = validation_generator, callbacks=[early_stop])"
   ]
  },
  {
   "cell_type": "code",
   "execution_count": 48,
   "id": "a84fe25e-95cc-4b82-8455-bed54cb04ed8",
   "metadata": {},
   "outputs": [
    {
     "name": "stdout",
     "output_type": "stream",
     "text": [
      "1/1 [==============================] - 0s 321ms/step\n",
      "1/1 [==============================] - 0s 26ms/step\n",
      "1/1 [==============================] - 0s 21ms/step\n",
      "1/1 [==============================] - 0s 24ms/step\n",
      "1/1 [==============================] - 0s 24ms/step\n",
      "1/1 [==============================] - 0s 23ms/step\n",
      "1/1 [==============================] - 0s 20ms/step\n",
      "1/1 [==============================] - 0s 32ms/step\n",
      "1/1 [==============================] - 0s 42ms/step\n",
      "1/1 [==============================] - 0s 23ms/step\n",
      "1/1 [==============================] - 0s 22ms/step\n",
      "1/1 [==============================] - 0s 26ms/step\n",
      "1/1 [==============================] - 0s 25ms/step\n",
      "1/1 [==============================] - 0s 21ms/step\n",
      "1/1 [==============================] - 0s 34ms/step\n",
      "1/1 [==============================] - 0s 40ms/step\n",
      "1/1 [==============================] - 0s 22ms/step\n",
      "1/1 [==============================] - 0s 22ms/step\n",
      "1/1 [==============================] - 0s 36ms/step\n",
      "1/1 [==============================] - 0s 33ms/step\n",
      "1/1 [==============================] - 0s 22ms/step\n",
      "1/1 [==============================] - 0s 23ms/step\n",
      "1/1 [==============================] - 0s 23ms/step\n",
      "1/1 [==============================] - 0s 37ms/step\n",
      "1/1 [==============================] - 0s 22ms/step\n",
      "1/1 [==============================] - 0s 19ms/step\n",
      "1/1 [==============================] - 0s 22ms/step\n",
      "1/1 [==============================] - 0s 28ms/step\n",
      "1/1 [==============================] - 0s 28ms/step\n",
      "1/1 [==============================] - 0s 24ms/step\n",
      "1/1 [==============================] - 0s 22ms/step\n",
      "1/1 [==============================] - 0s 22ms/step\n",
      "1/1 [==============================] - 0s 28ms/step\n",
      "1/1 [==============================] - 0s 21ms/step\n",
      "1/1 [==============================] - 0s 20ms/step\n",
      "1/1 [==============================] - 0s 36ms/step\n",
      "1/1 [==============================] - 0s 20ms/step\n",
      "1/1 [==============================] - 0s 23ms/step\n",
      "1/1 [==============================] - 0s 25ms/step\n",
      "1/1 [==============================] - 0s 22ms/step\n",
      "1/1 [==============================] - 0s 20ms/step\n",
      "1/1 [==============================] - 0s 23ms/step\n",
      "1/1 [==============================] - 0s 22ms/step\n",
      "1/1 [==============================] - 0s 21ms/step\n",
      "1/1 [==============================] - 0s 42ms/step\n",
      "1/1 [==============================] - 0s 25ms/step\n",
      "1/1 [==============================] - 0s 21ms/step\n",
      "1/1 [==============================] - 0s 25ms/step\n",
      "1/1 [==============================] - 0s 28ms/step\n",
      "1/1 [==============================] - 0s 27ms/step\n"
     ]
    }
   ],
   "source": [
    "true_predictions = []\n",
    "first_eval_batch = scaled_train[-length:]\n",
    "current_batch = first_eval_batch.reshape((1, length, n_features))\n",
    "\n",
    "for i in range(len(test)):\n",
    "    current_pred = model.predict(current_batch)[0]\n",
    "    true_predictions.append(current_pred)\n",
    "    current_batch = np.append(current_batch[:,1:,:], [[current_pred]],axis=1)"
   ]
  },
  {
   "cell_type": "code",
   "execution_count": 49,
   "id": "b71cf6e0-20f0-48e1-8aca-a493301b2086",
   "metadata": {},
   "outputs": [
    {
     "name": "stderr",
     "output_type": "stream",
     "text": [
      "C:\\Users\\user\\AppData\\Local\\Temp/ipykernel_10792/2642922961.py:2: SettingWithCopyWarning: \n",
      "A value is trying to be set on a copy of a slice from a DataFrame.\n",
      "Try using .loc[row_indexer,col_indexer] = value instead\n",
      "\n",
      "See the caveats in the documentation: https://pandas.pydata.org/pandas-docs/stable/user_guide/indexing.html#returning-a-view-versus-a-copy\n",
      "  test['LSTM_Predictions'] = true_predictions\n"
     ]
    },
    {
     "data": {
      "text/plain": [
       "<AxesSubplot:>"
      ]
     },
     "execution_count": 49,
     "metadata": {},
     "output_type": "execute_result"
    },
    {
     "data": {
      "image/png": "[encoded data removed]",
      "text/plain": [
       "<Figure size 864x576 with 1 Axes>"
      ]
     },
     "metadata": {
      "needs_background": "light"
     },
     "output_type": "display_data"
    }
   ],
   "source": [
    "true_predictions = scaler.inverse_transform(test_predictions)\n",
    "test['LSTM_Predictions'] = true_predictions\n",
    "test.plot(figsize = (12,8))"
   ]
  },
  {
   "cell_type": "code",
   "execution_count": 50,
   "id": "afe7c0b9-fc3c-46f8-9f12-7558d1173aae",
   "metadata": {},
   "outputs": [
    {
     "data": {
      "text/plain": [
       "<AxesSubplot:>"
      ]
     },
     "execution_count": 50,
     "metadata": {},
     "output_type": "execute_result"
    },
    {
     "data": {
      "image/png": "[encoded data removed]",
      "text/plain": [
       "<Figure size 432x288 with 1 Axes>"
      ]
     },
     "metadata": {
      "needs_background": "light"
     },
     "output_type": "display_data"
    }
   ],
   "source": [
    "df.plot()"
   ]
  },
  {
   "cell_type": "code",
   "execution_count": 51,
   "id": "62cd8df0-61cb-43cf-a1fc-82884234c18f",
   "metadata": {},
   "outputs": [],
   "source": [
    "full_scaler = MinMaxScaler()\n",
    "scaled_full_data = full_scaler.fit_transform(df)"
   ]
  },
  {
   "cell_type": "code",
   "execution_count": 52,
   "id": "19775e2d-36aa-4a96-b4a1-3b72a2122405",
   "metadata": {},
   "outputs": [],
   "source": [
    "generator = TimeseriesGenerator(scaled_train, scaled_train, length=length, batch_size=1)"
   ]
  },
  {
   "cell_type": "code",
   "execution_count": 53,
   "id": "593c76fe-b880-4629-a8b2-de9f35e94ea8",
   "metadata": {},
   "outputs": [],
   "source": [
    "intro = keras.Input(shape=(length, n_features))\n",
    "x1 = layers.LSTM(50)(intro)\n",
    "outro = layers.Dense(1)(x1)\n",
    "\n",
    "model = keras.Model(inputs = intro, outputs = outro)\n",
    "model.compile(optimizer = 'adam', loss = 'mse')"
   ]
  },
  {
   "cell_type": "code",
   "execution_count": 54,
   "id": "177f7370-c3d1-4be8-8693-7e7fe7065681",
   "metadata": {},
   "outputs": [
    {
     "name": "stdout",
     "output_type": "stream",
     "text": [
      "Epoch 1/6\n",
      "402/402 [==============================] - 5s 8ms/step - loss: 0.0076\n",
      "Epoch 2/6\n",
      "402/402 [==============================] - 3s 7ms/step - loss: 1.5037e-04\n",
      "Epoch 3/6\n",
      "402/402 [==============================] - 3s 7ms/step - loss: 2.5640e-04\n",
      "Epoch 4/6\n",
      "402/402 [==============================] - 3s 8ms/step - loss: 1.8067e-04\n",
      "Epoch 5/6\n",
      "402/402 [==============================] - 3s 8ms/step - loss: 5.6832e-05\n",
      "Epoch 6/6\n",
      "402/402 [==============================] - 3s 7ms/step - loss: 2.1081e-04\n"
     ]
    },
    {
     "data": {
      "text/plain": [
       "<keras.callbacks.History at 0x237f23b8eb0>"
      ]
     },
     "execution_count": 54,
     "metadata": {},
     "output_type": "execute_result"
    }
   ],
   "source": [
    "model.fit(generator, epochs=6)"
   ]
  },
  {
   "cell_type": "code",
   "execution_count": 55,
   "id": "ac1bbda6-f10c-414b-805d-5166d3483c76",
   "metadata": {},
   "outputs": [
    {
     "name": "stdout",
     "output_type": "stream",
     "text": [
      "1/1 [==============================] - 0s 361ms/step\n",
      "1/1 [==============================] - 0s 30ms/step\n",
      "1/1 [==============================] - 0s 38ms/step\n",
      "1/1 [==============================] - 0s 19ms/step\n",
      "1/1 [==============================] - 0s 20ms/step\n",
      "1/1 [==============================] - 0s 22ms/step\n",
      "1/1 [==============================] - 0s 30ms/step\n",
      "1/1 [==============================] - 0s 28ms/step\n",
      "1/1 [==============================] - 0s 44ms/step\n",
      "1/1 [==============================] - 0s 25ms/step\n",
      "1/1 [==============================] - 0s 23ms/step\n",
      "1/1 [==============================] - 0s 36ms/step\n",
      "1/1 [==============================] - 0s 23ms/step\n",
      "1/1 [==============================] - 0s 21ms/step\n",
      "1/1 [==============================] - 0s 31ms/step\n",
      "1/1 [==============================] - 0s 25ms/step\n",
      "1/1 [==============================] - 0s 22ms/step\n",
      "1/1 [==============================] - 0s 22ms/step\n",
      "1/1 [==============================] - 0s 26ms/step\n",
      "1/1 [==============================] - 0s 26ms/step\n",
      "1/1 [==============================] - 0s 43ms/step\n",
      "1/1 [==============================] - 0s 51ms/step\n",
      "1/1 [==============================] - 0s 36ms/step\n",
      "1/1 [==============================] - 0s 33ms/step\n",
      "1/1 [==============================] - 0s 38ms/step\n"
     ]
    }
   ],
   "source": [
    "forecast = []\n",
    "first_eval_batch = scaled_train[-length:]\n",
    "current_batch = first_eval_batch.reshape((1, length, n_features))\n",
    "\n",
    "for i in range(25):\n",
    "    current_pred = model.predict(current_batch)[0]\n",
    "    forecast.append(current_pred)\n",
    "    current_batch = np.append(current_batch[:,1:,:], [[current_pred]],axis=1)"
   ]
  },
  {
   "cell_type": "code",
   "execution_count": 57,
   "id": "68bb056b-ac4c-4b29-97cd-1b32b6827a59",
   "metadata": {},
   "outputs": [],
   "source": [
    "forecast = scaler.inverse_transform(forecast)"
   ]
  },
  {
   "cell_type": "code",
   "execution_count": 58,
   "id": "42725b7e-328b-472d-8ef0-e062158f6a5b",
   "metadata": {},
   "outputs": [
    {
     "data": {
      "text/plain": [
       "array([[ 0.91315155],\n",
       "       [ 0.95173201],\n",
       "       [ 0.98096619],\n",
       "       [ 1.00045508],\n",
       "       [ 1.00991331],\n",
       "       [ 1.00941502],\n",
       "       [ 0.99875302],\n",
       "       [ 0.9783647 ],\n",
       "       [ 0.94831121],\n",
       "       [ 0.909036  ],\n",
       "       [ 0.86087523],\n",
       "       [ 0.8043749 ],\n",
       "       [ 0.73994684],\n",
       "       [ 0.66820155],\n",
       "       [ 0.58949496],\n",
       "       [ 0.50474797],\n",
       "       [ 0.4146155 ],\n",
       "       [ 0.31967501],\n",
       "       [ 0.2208116 ],\n",
       "       [ 0.11885271],\n",
       "       [ 0.01463245],\n",
       "       [-0.09087873],\n",
       "       [-0.19662201],\n",
       "       [-0.30150841],\n",
       "       [-0.40450483]])"
      ]
     },
     "execution_count": 58,
     "metadata": {},
     "output_type": "execute_result"
    }
   ],
   "source": [
    "forecast"
   ]
  },
  {
   "cell_type": "code",
   "execution_count": null,
   "id": "404e7076-5eaf-498b-82d4-f13e06212c33",
   "metadata": {},
   "outputs": [],
   "source": [
    "25*0.1"
   ]
  },
  {
   "cell_type": "code",
   "execution_count": 59,
   "id": "de3f2bcd-ccb9-425b-8bfb-40f532c8d8fc",
   "metadata": {},
   "outputs": [],
   "source": [
    "forecast_index = np.arange(50.1, 52.6, step=0.1)"
   ]
  },
  {
   "cell_type": "code",
   "execution_count": 60,
   "id": "28484910-4b0d-4873-867d-4729f32851e2",
   "metadata": {},
   "outputs": [
    {
     "data": {
      "text/plain": [
       "25"
      ]
     },
     "execution_count": 60,
     "metadata": {},
     "output_type": "execute_result"
    }
   ],
   "source": [
    "len(forecast_index)"
   ]
  },
  {
   "cell_type": "code",
   "execution_count": 61,
   "id": "11360ef4-017c-439f-9233-c2ba13825eb9",
   "metadata": {},
   "outputs": [
    {
     "data": {
      "text/plain": [
       "25"
      ]
     },
     "execution_count": 61,
     "metadata": {},
     "output_type": "execute_result"
    }
   ],
   "source": [
    "len(forecast)"
   ]
  },
  {
   "cell_type": "code",
   "execution_count": 62,
   "id": "3ac5bf0a-9cc1-469f-bbee-5d7fb6f9881a",
   "metadata": {},
   "outputs": [
    {
     "data": {
      "text/plain": [
       "[<matplotlib.lines.Line2D at 0x237f39acfa0>]"
      ]
     },
     "execution_count": 62,
     "metadata": {},
     "output_type": "execute_result"
    },
    {
     "data": {
      "image/png": "[encoded data removed]",
      "text/plain": [
       "<Figure size 432x288 with 1 Axes>"
      ]
     },
     "metadata": {
      "needs_background": "light"
     },
     "output_type": "display_data"
    }
   ],
   "source": [
    "plt.plot(df.index,df['Sine'])\n",
    "plt.plot(forecast_index, forecast)"
   ]
  },
  {
   "cell_type": "code",
   "execution_count": null,
   "id": "a0323b04-edfd-4a67-b068-944689f32745",
   "metadata": {},
   "outputs": [],
   "source": []
  },
  {
   "cell_type": "code",
   "execution_count": null,
   "id": "f907722f-ba76-4f8d-81d7-77490c8b6e72",
   "metadata": {},
   "outputs": [],
   "source": []
  },
  {
   "cell_type": "code",
   "execution_count": null,
   "id": "994fa797-c4a8-4fc1-b235-861d07e32102",
   "metadata": {},
   "outputs": [],
   "source": []
  },
  {
   "cell_type": "code",
   "execution_count": null,
   "id": "d7da83cc-53cf-4693-a458-f2730dcbdb7a",
   "metadata": {},
   "outputs": [],
   "source": []
  }
 ],
 "metadata": {
  "kernelspec": {
   "display_name": "Python 3 (ipykernel)",
   "language": "python",
   "name": "python3"
  },
  "language_info": {
   "codemirror_mode": {
    "name": "ipython",
    "version": 3
   },
   "file_extension": ".py",
   "mimetype": "text/x-python",
   "name": "python",
   "nbconvert_exporter": "python",
   "pygments_lexer": "ipython3",
   "version": "3.9.7"
  }
 },
 "nbformat": 4,
 "nbformat_minor": 5
}
